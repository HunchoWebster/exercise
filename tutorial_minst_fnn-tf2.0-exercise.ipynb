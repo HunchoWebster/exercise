{
 "cells": [
  {
   "cell_type": "markdown",
   "metadata": {},
   "source": [
    "## 准备数据"
   ]
  },
  {
   "cell_type": "code",
   "execution_count": 61,
   "metadata": {},
   "outputs": [],
   "source": [
    "import os\n",
    "import numpy as np\n",
    "import tensorflow as tf\n",
    "from tensorflow import keras\n",
    "from tensorflow.keras import layers, optimizers, datasets\n",
    "\n",
    "os.environ['TF_CPP_MIN_LOG_LEVEL'] = '2'  # or any {'0', '1', '2'}\n",
    "\n",
    "def mnist_dataset():\n",
    "    (x, y), (x_test, y_test) = datasets.mnist.load_data()\n",
    "    #normalize\n",
    "    x = x/255.0\n",
    "    x_test = x_test/255.0\n",
    "    \n",
    "    return (x, y), (x_test, y_test)"
   ]
  },
  {
   "cell_type": "code",
   "execution_count": 62,
   "metadata": {},
   "outputs": [
    {
     "name": "stdout",
     "output_type": "stream",
     "text": [
      "[(1, 'a'), (2, 'b'), (3, 'c'), (4, 'd')]\n"
     ]
    }
   ],
   "source": [
    "print(list(zip([1, 2, 3, 4], ['a', 'b', 'c', 'd'])))"
   ]
  },
  {
   "cell_type": "markdown",
   "metadata": {},
   "source": [
    "## 建立模型"
   ]
  },
  {
   "cell_type": "code",
   "execution_count": 63,
   "metadata": {},
   "outputs": [],
   "source": [
    "class myModel:\n",
    "    def __init__(self):\n",
    "        # 定义模型参数\n",
    "        self.W1 = tf.Variable(tf.random.normal([784, 100]))  # 第一层权重，从784个特征映射到100个隐藏层神经元\n",
    "        self.b1 = tf.Variable(tf.zeros([100]))  # 第一层偏置\n",
    "        self.W2 = tf.Variable(tf.random.normal([100, 10]))  # 第二层权重，从100个隐藏层神经元映射到10个输出类别\n",
    "        self.b2 = tf.Variable(tf.zeros([10]))  # 第二层偏置\n",
    "\n",
    "    def __call__(self, x):\n",
    "        # 实现模型前向传播\n",
    "        x = tf.reshape(x, [-1, 784])  # 显式展平输入\n",
    "        h1 = tf.nn.relu(tf.matmul(x, self.W1) + self.b1)  # 第一层隐藏层，使用 ReLU 激活函数\n",
    "        logits = tf.matmul(h1, self.W2) + self.b2  # 第二层输出层\n",
    "        return logits  # 返回未归一化的logits\n",
    "    \n",
    "    \n",
    "model = myModel()\n",
    "optimizer = optimizers.Adam()\n",
    "\n"
   ]
  },
  {
   "cell_type": "markdown",
   "metadata": {},
   "source": [
    "## 计算 loss"
   ]
  },
  {
   "cell_type": "code",
   "execution_count": 64,
   "metadata": {},
   "outputs": [],
   "source": [
    "@tf.function\n",
    "def compute_loss(logits, labels):\n",
    "    return tf.reduce_mean(\n",
    "        tf.nn.sparse_softmax_cross_entropy_with_logits(\n",
    "            logits=logits, labels=labels))\n",
    "\n",
    "@tf.function\n",
    "def compute_accuracy(logits, labels):\n",
    "    predictions = tf.argmax(logits, axis=1)\n",
    "    return tf.reduce_mean(tf.cast(tf.equal(predictions, labels), tf.float32))\n",
    "\n",
    "@tf.function\n",
    "def train_one_step(model, optimizer, x, y):\n",
    "    with tf.GradientTape() as tape:\n",
    "        logits = model(x)\n",
    "        loss = compute_loss(logits, y)\n",
    "\n",
    "    # compute gradient\n",
    "    trainable_vars = [model.W1, model.W2, model.b1, model.b2]\n",
    "    grads = tape.gradient(loss, trainable_vars)\n",
    "    for g, v in zip(grads, trainable_vars):\n",
    "        v.assign_sub(0.01*g)\n",
    "\n",
    "    accuracy = compute_accuracy(logits, y)\n",
    "\n",
    "    # loss and accuracy is scalar tensor\n",
    "    return loss, accuracy\n",
    "\n",
    "@tf.function\n",
    "def test(model, x, y):\n",
    "    logits = model(x)\n",
    "    loss = compute_loss(logits, y)\n",
    "    accuracy = compute_accuracy(logits, y)\n",
    "    return loss, accuracy"
   ]
  },
  {
   "cell_type": "markdown",
   "metadata": {},
   "source": [
    "## 实际训练"
   ]
  },
  {
   "cell_type": "code",
   "execution_count": 65,
   "metadata": {},
   "outputs": [
    {
     "name": "stdout",
     "output_type": "stream",
     "text": [
      "epoch 0 : loss 88.81725 ; accuracy 0.083516665\n",
      "epoch 1 : loss 84.14179 ; accuracy 0.08925\n",
      "epoch 2 : loss 80.1928 ; accuracy 0.09538333\n",
      "epoch 3 : loss 76.82547 ; accuracy 0.1027\n",
      "epoch 4 : loss 73.90951 ; accuracy 0.1091\n",
      "epoch 5 : loss 71.34558 ; accuracy 0.116166666\n",
      "epoch 6 : loss 69.05755 ; accuracy 0.12206667\n",
      "epoch 7 : loss 66.98651 ; accuracy 0.12825\n",
      "epoch 8 : loss 65.089 ; accuracy 0.13416667\n",
      "epoch 9 : loss 63.333282 ; accuracy 0.13926667\n",
      "epoch 10 : loss 61.70271 ; accuracy 0.14481667\n",
      "epoch 11 : loss 60.18046 ; accuracy 0.15028334\n",
      "epoch 12 : loss 58.752716 ; accuracy 0.15585\n",
      "epoch 13 : loss 57.412476 ; accuracy 0.16046667\n",
      "epoch 14 : loss 56.153732 ; accuracy 0.16528334\n",
      "epoch 15 : loss 54.96992 ; accuracy 0.1695\n",
      "epoch 16 : loss 53.856415 ; accuracy 0.1743\n",
      "epoch 17 : loss 52.807133 ; accuracy 0.17886667\n",
      "epoch 18 : loss 51.814312 ; accuracy 0.18316667\n",
      "epoch 19 : loss 50.8726 ; accuracy 0.18726666\n",
      "epoch 20 : loss 49.977688 ; accuracy 0.1915\n",
      "epoch 21 : loss 49.12324 ; accuracy 0.1957\n",
      "epoch 22 : loss 48.30435 ; accuracy 0.1997\n",
      "epoch 23 : loss 47.516907 ; accuracy 0.204\n",
      "epoch 24 : loss 46.75781 ; accuracy 0.20818333\n",
      "epoch 25 : loss 46.024384 ; accuracy 0.21306667\n",
      "epoch 26 : loss 45.314533 ; accuracy 0.21745\n",
      "epoch 27 : loss 44.62625 ; accuracy 0.2223\n",
      "epoch 28 : loss 43.958397 ; accuracy 0.22695\n",
      "epoch 29 : loss 43.309933 ; accuracy 0.23161666\n",
      "epoch 30 : loss 42.67957 ; accuracy 0.23606667\n",
      "epoch 31 : loss 42.06668 ; accuracy 0.24096666\n",
      "epoch 32 : loss 41.47042 ; accuracy 0.24525\n",
      "epoch 33 : loss 40.889915 ; accuracy 0.24996667\n",
      "epoch 34 : loss 40.32453 ; accuracy 0.25468335\n",
      "epoch 35 : loss 39.773884 ; accuracy 0.25935\n",
      "epoch 36 : loss 39.23757 ; accuracy 0.2637\n",
      "epoch 37 : loss 38.71511 ; accuracy 0.26826668\n",
      "epoch 38 : loss 38.206142 ; accuracy 0.27236667\n",
      "epoch 39 : loss 37.71017 ; accuracy 0.27658334\n",
      "epoch 40 : loss 37.226624 ; accuracy 0.28085\n",
      "epoch 41 : loss 36.755085 ; accuracy 0.28491667\n",
      "epoch 42 : loss 36.294895 ; accuracy 0.28863335\n",
      "epoch 43 : loss 35.845516 ; accuracy 0.29223335\n",
      "epoch 44 : loss 35.406586 ; accuracy 0.29571667\n",
      "epoch 45 : loss 34.97781 ; accuracy 0.29941666\n",
      "epoch 46 : loss 34.558804 ; accuracy 0.3028\n",
      "epoch 47 : loss 34.1494 ; accuracy 0.3064\n",
      "epoch 48 : loss 33.749535 ; accuracy 0.31\n",
      "epoch 49 : loss 33.358974 ; accuracy 0.31383333\n",
      "test loss 33.046936 ; accuracy 0.3216\n"
     ]
    }
   ],
   "source": [
    "train_data, test_data = mnist_dataset()\n",
    "for epoch in range(50):\n",
    "    loss, accuracy = train_one_step(model, optimizer, \n",
    "                                    tf.constant(train_data[0], dtype=tf.float32), \n",
    "                                    tf.constant(train_data[1], dtype=tf.int64))\n",
    "    print('epoch', epoch, ': loss', loss.numpy(), '; accuracy', accuracy.numpy())\n",
    "loss, accuracy = test(model, \n",
    "                      tf.constant(test_data[0], dtype=tf.float32), \n",
    "                      tf.constant(test_data[1], dtype=tf.int64))\n",
    "\n",
    "print('test loss', loss.numpy(), '; accuracy', accuracy.numpy())"
   ]
  },
  {
   "cell_type": "code",
   "execution_count": null,
   "metadata": {},
   "outputs": [],
   "source": []
  }
 ],
 "metadata": {
  "kernelspec": {
   "display_name": "Python 3 (ipykernel)",
   "language": "python",
   "name": "python3"
  },
  "language_info": {
   "codemirror_mode": {
    "name": "ipython",
    "version": 3
   },
   "file_extension": ".py",
   "mimetype": "text/x-python",
   "name": "python",
   "nbconvert_exporter": "python",
   "pygments_lexer": "ipython3",
   "version": "3.10.11"
  }
 },
 "nbformat": 4,
 "nbformat_minor": 4
}
